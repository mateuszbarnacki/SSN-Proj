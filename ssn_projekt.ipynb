{
  "nbformat": 4,
  "nbformat_minor": 0,
  "metadata": {
    "colab": {
      "name": "ssn_projekt.ipynb",
      "provenance": [],
      "collapsed_sections": [],
      "include_colab_link": true
    },
    "kernelspec": {
      "name": "python3",
      "display_name": "Python 3"
    },
    "language_info": {
      "name": "python"
    },
    "accelerator": "GPU"
  },
  "cells": [
    {
      "cell_type": "markdown",
      "metadata": {
        "id": "view-in-github",
        "colab_type": "text"
      },
      "source": [
        "<a href=\"https://colab.research.google.com/github/mateuszbarnacki/SSN-Proj/blob/main/ssn_projekt.ipynb\" target=\"_parent\"><img src=\"https://colab.research.google.com/assets/colab-badge.svg\" alt=\"Open In Colab\"/></a>"
      ]
    },
    {
      "cell_type": "code",
      "execution_count": 2,
      "metadata": {
        "colab": {
          "base_uri": "https://localhost:8080/"
        },
        "id": "-INbWrSvYoRr",
        "outputId": "8f6b0805-fb9d-4337-d98d-9ab4f329024a"
      },
      "outputs": [
        {
          "output_type": "stream",
          "name": "stdout",
          "text": [
            "(739,)\n"
          ]
        }
      ],
      "source": [
        "import numpy as np\n",
        "import pandas as pd\n",
        "\n",
        "\n",
        "data = pd.read_csv(\"COVID-19 w Polsce - Wzrost.csv\", header=None)\n",
        "data = data.values[2:-1,1]\n",
        "data = np.array([x[2:] for x in data]).astype(int)\n",
        "\n",
        "print(data.shape)"
      ]
    },
    {
      "cell_type": "code",
      "source": [
        "!pip install tensorflow_datasets\n",
        "!pip install -U 'tensorflow-text==2.8.*'"
      ],
      "metadata": {
        "colab": {
          "base_uri": "https://localhost:8080/"
        },
        "id": "7TkjVfowfWpT",
        "outputId": "46db925a-1963-481a-ead7-c16ea970f9dc"
      },
      "execution_count": null,
      "outputs": [
        {
          "output_type": "stream",
          "name": "stdout",
          "text": [
            "Looking in indexes: https://pypi.org/simple, https://us-python.pkg.dev/colab-wheels/public/simple/\n",
            "Requirement already satisfied: tensorflow_datasets in /usr/local/lib/python3.7/dist-packages (4.0.1)\n",
            "Requirement already satisfied: absl-py in /usr/local/lib/python3.7/dist-packages (from tensorflow_datasets) (1.0.0)\n",
            "Requirement already satisfied: tensorflow-metadata in /usr/local/lib/python3.7/dist-packages (from tensorflow_datasets) (1.8.0)\n",
            "Requirement already satisfied: six in /usr/local/lib/python3.7/dist-packages (from tensorflow_datasets) (1.15.0)\n",
            "Requirement already satisfied: protobuf>=3.6.1 in /usr/local/lib/python3.7/dist-packages (from tensorflow_datasets) (3.17.3)\n",
            "Requirement already satisfied: termcolor in /usr/local/lib/python3.7/dist-packages (from tensorflow_datasets) (1.1.0)\n",
            "Requirement already satisfied: attrs>=18.1.0 in /usr/local/lib/python3.7/dist-packages (from tensorflow_datasets) (21.4.0)\n",
            "Requirement already satisfied: future in /usr/local/lib/python3.7/dist-packages (from tensorflow_datasets) (0.16.0)\n",
            "Requirement already satisfied: numpy in /usr/local/lib/python3.7/dist-packages (from tensorflow_datasets) (1.21.6)\n",
            "Requirement already satisfied: requests>=2.19.0 in /usr/local/lib/python3.7/dist-packages (from tensorflow_datasets) (2.23.0)\n",
            "Requirement already satisfied: dm-tree in /usr/local/lib/python3.7/dist-packages (from tensorflow_datasets) (0.1.7)\n",
            "Requirement already satisfied: promise in /usr/local/lib/python3.7/dist-packages (from tensorflow_datasets) (2.3)\n",
            "Requirement already satisfied: importlib-resources in /usr/local/lib/python3.7/dist-packages (from tensorflow_datasets) (5.7.1)\n",
            "Requirement already satisfied: dill in /usr/local/lib/python3.7/dist-packages (from tensorflow_datasets) (0.3.5.1)\n",
            "Requirement already satisfied: tqdm in /usr/local/lib/python3.7/dist-packages (from tensorflow_datasets) (4.64.0)\n",
            "Requirement already satisfied: idna<3,>=2.5 in /usr/local/lib/python3.7/dist-packages (from requests>=2.19.0->tensorflow_datasets) (2.10)\n",
            "Requirement already satisfied: certifi>=2017.4.17 in /usr/local/lib/python3.7/dist-packages (from requests>=2.19.0->tensorflow_datasets) (2022.5.18.1)\n",
            "Requirement already satisfied: chardet<4,>=3.0.2 in /usr/local/lib/python3.7/dist-packages (from requests>=2.19.0->tensorflow_datasets) (3.0.4)\n",
            "Requirement already satisfied: urllib3!=1.25.0,!=1.25.1,<1.26,>=1.21.1 in /usr/local/lib/python3.7/dist-packages (from requests>=2.19.0->tensorflow_datasets) (1.24.3)\n",
            "Requirement already satisfied: zipp>=3.1.0 in /usr/local/lib/python3.7/dist-packages (from importlib-resources->tensorflow_datasets) (3.8.0)\n",
            "Requirement already satisfied: googleapis-common-protos<2,>=1.52.0 in /usr/local/lib/python3.7/dist-packages (from tensorflow-metadata->tensorflow_datasets) (1.56.2)\n",
            "Looking in indexes: https://pypi.org/simple, https://us-python.pkg.dev/colab-wheels/public/simple/\n",
            "Collecting tensorflow-text==2.8.*\n",
            "  Downloading tensorflow_text-2.8.2-cp37-cp37m-manylinux_2_12_x86_64.manylinux2010_x86_64.whl (4.9 MB)\n",
            "\u001b[K     |████████████████████████████████| 4.9 MB 9.5 MB/s \n",
            "\u001b[?25hRequirement already satisfied: tensorflow-hub>=0.8.0 in /usr/local/lib/python3.7/dist-packages (from tensorflow-text==2.8.*) (0.12.0)\n",
            "Requirement already satisfied: tensorflow<2.9,>=2.8.0 in /usr/local/lib/python3.7/dist-packages (from tensorflow-text==2.8.*) (2.8.2+zzzcolab20220527125636)\n",
            "Requirement already satisfied: wrapt>=1.11.0 in /usr/local/lib/python3.7/dist-packages (from tensorflow<2.9,>=2.8.0->tensorflow-text==2.8.*) (1.14.1)\n",
            "Requirement already satisfied: tensorflow-io-gcs-filesystem>=0.23.1 in /usr/local/lib/python3.7/dist-packages (from tensorflow<2.9,>=2.8.0->tensorflow-text==2.8.*) (0.26.0)\n",
            "Requirement already satisfied: numpy>=1.20 in /usr/local/lib/python3.7/dist-packages (from tensorflow<2.9,>=2.8.0->tensorflow-text==2.8.*) (1.21.6)\n",
            "Requirement already satisfied: libclang>=9.0.1 in /usr/local/lib/python3.7/dist-packages (from tensorflow<2.9,>=2.8.0->tensorflow-text==2.8.*) (14.0.1)\n",
            "Requirement already satisfied: astunparse>=1.6.0 in /usr/local/lib/python3.7/dist-packages (from tensorflow<2.9,>=2.8.0->tensorflow-text==2.8.*) (1.6.3)\n",
            "Requirement already satisfied: google-pasta>=0.1.1 in /usr/local/lib/python3.7/dist-packages (from tensorflow<2.9,>=2.8.0->tensorflow-text==2.8.*) (0.2.0)\n",
            "Requirement already satisfied: setuptools in /usr/local/lib/python3.7/dist-packages (from tensorflow<2.9,>=2.8.0->tensorflow-text==2.8.*) (57.4.0)\n",
            "Requirement already satisfied: six>=1.12.0 in /usr/local/lib/python3.7/dist-packages (from tensorflow<2.9,>=2.8.0->tensorflow-text==2.8.*) (1.15.0)\n",
            "Requirement already satisfied: keras-preprocessing>=1.1.1 in /usr/local/lib/python3.7/dist-packages (from tensorflow<2.9,>=2.8.0->tensorflow-text==2.8.*) (1.1.2)\n",
            "Requirement already satisfied: gast>=0.2.1 in /usr/local/lib/python3.7/dist-packages (from tensorflow<2.9,>=2.8.0->tensorflow-text==2.8.*) (0.5.3)\n",
            "Requirement already satisfied: termcolor>=1.1.0 in /usr/local/lib/python3.7/dist-packages (from tensorflow<2.9,>=2.8.0->tensorflow-text==2.8.*) (1.1.0)\n",
            "Requirement already satisfied: protobuf<3.20,>=3.9.2 in /usr/local/lib/python3.7/dist-packages (from tensorflow<2.9,>=2.8.0->tensorflow-text==2.8.*) (3.17.3)\n",
            "Requirement already satisfied: opt-einsum>=2.3.2 in /usr/local/lib/python3.7/dist-packages (from tensorflow<2.9,>=2.8.0->tensorflow-text==2.8.*) (3.3.0)\n",
            "Requirement already satisfied: keras<2.9,>=2.8.0rc0 in /usr/local/lib/python3.7/dist-packages (from tensorflow<2.9,>=2.8.0->tensorflow-text==2.8.*) (2.8.0)\n",
            "Requirement already satisfied: tensorboard<2.9,>=2.8 in /usr/local/lib/python3.7/dist-packages (from tensorflow<2.9,>=2.8.0->tensorflow-text==2.8.*) (2.8.0)\n",
            "Requirement already satisfied: h5py>=2.9.0 in /usr/local/lib/python3.7/dist-packages (from tensorflow<2.9,>=2.8.0->tensorflow-text==2.8.*) (3.1.0)\n",
            "Requirement already satisfied: absl-py>=0.4.0 in /usr/local/lib/python3.7/dist-packages (from tensorflow<2.9,>=2.8.0->tensorflow-text==2.8.*) (1.0.0)\n",
            "Requirement already satisfied: flatbuffers>=1.12 in /usr/local/lib/python3.7/dist-packages (from tensorflow<2.9,>=2.8.0->tensorflow-text==2.8.*) (2.0)\n",
            "Requirement already satisfied: grpcio<2.0,>=1.24.3 in /usr/local/lib/python3.7/dist-packages (from tensorflow<2.9,>=2.8.0->tensorflow-text==2.8.*) (1.46.3)\n",
            "Requirement already satisfied: typing-extensions>=3.6.6 in /usr/local/lib/python3.7/dist-packages (from tensorflow<2.9,>=2.8.0->tensorflow-text==2.8.*) (4.2.0)\n",
            "Requirement already satisfied: tensorflow-estimator<2.9,>=2.8 in /usr/local/lib/python3.7/dist-packages (from tensorflow<2.9,>=2.8.0->tensorflow-text==2.8.*) (2.8.0)\n",
            "Requirement already satisfied: wheel<1.0,>=0.23.0 in /usr/local/lib/python3.7/dist-packages (from astunparse>=1.6.0->tensorflow<2.9,>=2.8.0->tensorflow-text==2.8.*) (0.37.1)\n",
            "Requirement already satisfied: cached-property in /usr/local/lib/python3.7/dist-packages (from h5py>=2.9.0->tensorflow<2.9,>=2.8.0->tensorflow-text==2.8.*) (1.5.2)\n",
            "Requirement already satisfied: tensorboard-plugin-wit>=1.6.0 in /usr/local/lib/python3.7/dist-packages (from tensorboard<2.9,>=2.8->tensorflow<2.9,>=2.8.0->tensorflow-text==2.8.*) (1.8.1)\n",
            "Requirement already satisfied: google-auth<3,>=1.6.3 in /usr/local/lib/python3.7/dist-packages (from tensorboard<2.9,>=2.8->tensorflow<2.9,>=2.8.0->tensorflow-text==2.8.*) (1.35.0)\n",
            "Requirement already satisfied: google-auth-oauthlib<0.5,>=0.4.1 in /usr/local/lib/python3.7/dist-packages (from tensorboard<2.9,>=2.8->tensorflow<2.9,>=2.8.0->tensorflow-text==2.8.*) (0.4.6)\n",
            "Requirement already satisfied: werkzeug>=0.11.15 in /usr/local/lib/python3.7/dist-packages (from tensorboard<2.9,>=2.8->tensorflow<2.9,>=2.8.0->tensorflow-text==2.8.*) (1.0.1)\n",
            "Requirement already satisfied: tensorboard-data-server<0.7.0,>=0.6.0 in /usr/local/lib/python3.7/dist-packages (from tensorboard<2.9,>=2.8->tensorflow<2.9,>=2.8.0->tensorflow-text==2.8.*) (0.6.1)\n",
            "Requirement already satisfied: markdown>=2.6.8 in /usr/local/lib/python3.7/dist-packages (from tensorboard<2.9,>=2.8->tensorflow<2.9,>=2.8.0->tensorflow-text==2.8.*) (3.3.7)\n",
            "Requirement already satisfied: requests<3,>=2.21.0 in /usr/local/lib/python3.7/dist-packages (from tensorboard<2.9,>=2.8->tensorflow<2.9,>=2.8.0->tensorflow-text==2.8.*) (2.23.0)\n",
            "Requirement already satisfied: cachetools<5.0,>=2.0.0 in /usr/local/lib/python3.7/dist-packages (from google-auth<3,>=1.6.3->tensorboard<2.9,>=2.8->tensorflow<2.9,>=2.8.0->tensorflow-text==2.8.*) (4.2.4)\n",
            "Requirement already satisfied: rsa<5,>=3.1.4 in /usr/local/lib/python3.7/dist-packages (from google-auth<3,>=1.6.3->tensorboard<2.9,>=2.8->tensorflow<2.9,>=2.8.0->tensorflow-text==2.8.*) (4.8)\n",
            "Requirement already satisfied: pyasn1-modules>=0.2.1 in /usr/local/lib/python3.7/dist-packages (from google-auth<3,>=1.6.3->tensorboard<2.9,>=2.8->tensorflow<2.9,>=2.8.0->tensorflow-text==2.8.*) (0.2.8)\n",
            "Requirement already satisfied: requests-oauthlib>=0.7.0 in /usr/local/lib/python3.7/dist-packages (from google-auth-oauthlib<0.5,>=0.4.1->tensorboard<2.9,>=2.8->tensorflow<2.9,>=2.8.0->tensorflow-text==2.8.*) (1.3.1)\n",
            "Requirement already satisfied: importlib-metadata>=4.4 in /usr/local/lib/python3.7/dist-packages (from markdown>=2.6.8->tensorboard<2.9,>=2.8->tensorflow<2.9,>=2.8.0->tensorflow-text==2.8.*) (4.11.4)\n",
            "Requirement already satisfied: zipp>=0.5 in /usr/local/lib/python3.7/dist-packages (from importlib-metadata>=4.4->markdown>=2.6.8->tensorboard<2.9,>=2.8->tensorflow<2.9,>=2.8.0->tensorflow-text==2.8.*) (3.8.0)\n",
            "Requirement already satisfied: pyasn1<0.5.0,>=0.4.6 in /usr/local/lib/python3.7/dist-packages (from pyasn1-modules>=0.2.1->google-auth<3,>=1.6.3->tensorboard<2.9,>=2.8->tensorflow<2.9,>=2.8.0->tensorflow-text==2.8.*) (0.4.8)\n",
            "Requirement already satisfied: chardet<4,>=3.0.2 in /usr/local/lib/python3.7/dist-packages (from requests<3,>=2.21.0->tensorboard<2.9,>=2.8->tensorflow<2.9,>=2.8.0->tensorflow-text==2.8.*) (3.0.4)\n",
            "Requirement already satisfied: idna<3,>=2.5 in /usr/local/lib/python3.7/dist-packages (from requests<3,>=2.21.0->tensorboard<2.9,>=2.8->tensorflow<2.9,>=2.8.0->tensorflow-text==2.8.*) (2.10)\n",
            "Requirement already satisfied: urllib3!=1.25.0,!=1.25.1,<1.26,>=1.21.1 in /usr/local/lib/python3.7/dist-packages (from requests<3,>=2.21.0->tensorboard<2.9,>=2.8->tensorflow<2.9,>=2.8.0->tensorflow-text==2.8.*) (1.24.3)\n",
            "Requirement already satisfied: certifi>=2017.4.17 in /usr/local/lib/python3.7/dist-packages (from requests<3,>=2.21.0->tensorboard<2.9,>=2.8->tensorflow<2.9,>=2.8.0->tensorflow-text==2.8.*) (2022.5.18.1)\n",
            "Requirement already satisfied: oauthlib>=3.0.0 in /usr/local/lib/python3.7/dist-packages (from requests-oauthlib>=0.7.0->google-auth-oauthlib<0.5,>=0.4.1->tensorboard<2.9,>=2.8->tensorflow<2.9,>=2.8.0->tensorflow-text==2.8.*) (3.2.0)\n",
            "Installing collected packages: tensorflow-text\n",
            "Successfully installed tensorflow-text-2.8.2\n"
          ]
        }
      ]
    },
    {
      "cell_type": "code",
      "source": [
        "import numpy as np\n",
        "import matplotlib.pyplot as plt\n",
        "\n",
        "import tensorflow as tf\n",
        "\n",
        "from tensorflow import keras\n",
        "from keras import backend as K"
      ],
      "metadata": {
        "id": "vtVM5N_KfOxL"
      },
      "execution_count": 3,
      "outputs": []
    },
    {
      "cell_type": "code",
      "source": [
        "train_data, val_data = data[:700], data[700:]"
      ],
      "metadata": {
        "id": "7cRi3OjiftLT"
      },
      "execution_count": 157,
      "outputs": []
    },
    {
      "cell_type": "code",
      "source": [
        "def linear(x):\n",
        "  return x"
      ],
      "metadata": {
        "id": "94TaXpEXiEHv"
      },
      "execution_count": 117,
      "outputs": []
    },
    {
      "cell_type": "code",
      "source": [
        "class Time2Vec(keras.layers.Layer):\n",
        "    def __init__(self, kernel_size=1):\n",
        "        super(Time2Vec, self).__init__(trainable=True, name='Time2VecLayer')\n",
        "        self.k = kernel_size\n",
        "    \n",
        "    def build(self, input_shape):\n",
        "        # trend\n",
        "        self.wb = self.add_weight(name='wb',shape=(input_shape[1],),initializer='uniform',trainable=True)\n",
        "        self.bb = self.add_weight(name='bb',shape=(input_shape[1],),initializer='uniform',trainable=True)\n",
        "        # periodic\n",
        "        self.wa = self.add_weight(name='wa',shape=(1, input_shape[1], self.k),initializer='uniform',trainable=True)\n",
        "        self.ba = self.add_weight(name='ba',shape=(1, input_shape[1], self.k),initializer='uniform',trainable=True)\n",
        "        super(Time2Vec, self).build(input_shape)\n",
        "    \n",
        "    def call(self, inputs, **kwargs):\n",
        "        bias = self.wb * inputs + self.bb\n",
        "        dp = K.dot(inputs, self.wa) + self.ba\n",
        "        wgts = K.sin(dp)\n",
        "\n",
        "        ret = K.concatenate([K.expand_dims(bias, -1), wgts], -1)\n",
        "        ret = K.reshape(ret, (-1, inputs.shape[1]*(self.k+1)))\n",
        "        return ret\n",
        "    \n",
        "    def compute_output_shape(self, input_shape):\n",
        "        return (input_shape[0], input_shape[1]*(self.k + 1))"
      ],
      "metadata": {
        "id": "sGmCs39Dir3s"
      },
      "execution_count": 158,
      "outputs": []
    },
    {
      "cell_type": "code",
      "source": [
        "!pip install tensorflow-addons==0.10.0"
      ],
      "metadata": {
        "colab": {
          "base_uri": "https://localhost:8080/"
        },
        "id": "oGc6jKMnjnAc",
        "outputId": "e01b62de-d45c-4423-a6a2-3a1e15eb1656"
      },
      "execution_count": 8,
      "outputs": [
        {
          "output_type": "stream",
          "name": "stdout",
          "text": [
            "Looking in indexes: https://pypi.org/simple, https://us-python.pkg.dev/colab-wheels/public/simple/\n",
            "Collecting tensorflow-addons==0.10.0\n",
            "  Downloading tensorflow_addons-0.10.0-cp37-cp37m-manylinux2010_x86_64.whl (1.0 MB)\n",
            "\u001b[K     |████████████████████████████████| 1.0 MB 5.0 MB/s \n",
            "\u001b[?25hRequirement already satisfied: typeguard>=2.7 in /usr/local/lib/python3.7/dist-packages (from tensorflow-addons==0.10.0) (2.7.1)\n",
            "Installing collected packages: tensorflow-addons\n",
            "Successfully installed tensorflow-addons-0.10.0\n"
          ]
        }
      ]
    },
    {
      "cell_type": "code",
      "source": [
        "import tensorflow_addons\n",
        "from tensorflow_addons.layers import MultiHeadAttention\n",
        "\n",
        "class AttentionBlock(keras.Model):\n",
        "    def __init__(self, name='AttentionBlock', num_heads=2, head_size=128, ff_dim=None, dropout=0, **kwargs):\n",
        "        super().__init__(name=name, **kwargs)\n",
        "\n",
        "        if ff_dim is None:\n",
        "            ff_dim = head_size\n",
        "\n",
        "        self.attention = MultiHeadAttention(num_heads=num_heads, head_size=head_size, dropout=dropout)\n",
        "        self.attention_dropout = keras.layers.Dropout(dropout)\n",
        "        self.attention_norm = keras.layers.LayerNormalization(epsilon=1e-6)\n",
        "\n",
        "        self.ff_conv1 = keras.layers.Conv1D(filters=ff_dim, kernel_size=1, activation='relu')\n",
        "        self.ff_dropout = keras.layers.Dropout(dropout)\n",
        "        #self.ff_flaten = keras.layers.Flatten()\n",
        "        self.ff_dense1 = keras.layers.Dense(32, activation='relu')\n",
        "        self.ff_dense2 = keras.layers.Dense(1, activation=linear)\n",
        "        self.ff_norm = keras.layers.LayerNormalization(epsilon=1e-6)\n",
        "\n",
        "    def build(self, input_shape):\n",
        "        self.ff_conv2 = keras.layers.Conv1D(filters=input_shape[-1], kernel_size=1) \n",
        "\n",
        "    def call(self, inputs):\n",
        "        #print(inputs.numpy()) #dziala tylko na gpu\n",
        "        x = self.attention([inputs, inputs])\n",
        "        x = self.attention_dropout(x)\n",
        "        x = self.attention_norm(inputs + x)\n",
        "\n",
        "        x = self.ff_conv1(x)\n",
        "        x = self.ff_conv2(x)\n",
        "        x = self.ff_dropout(x)\n",
        "        # x = self.ff_dense1(x)\n",
        "        # x = self.ff_dense2(x)\n",
        "        x = self.ff_norm(inputs + x)\n",
        "        #x = self.ff_flaten(x)\n",
        "        x = self.ff_dense1(x)\n",
        "        x = self.ff_dense2(x)\n",
        "\n",
        "        return x"
      ],
      "metadata": {
        "id": "P5n_bch7jJVw"
      },
      "execution_count": 167,
      "outputs": []
    },
    {
      "cell_type": "code",
      "source": [
        "class ModelTrunk(keras.Model):\n",
        "    def __init__(self, name='ModelTrunk', time2vec_dim=1, num_heads=2, head_size=128, ff_dim=None, num_layers=1, dropout=0, **kwargs):\n",
        "      super().__init__(name=name, **kwargs)\n",
        "      self.time2vec = Time2Vec(kernel_size=time2vec_dim)\n",
        "      if ff_dim is None:\n",
        "          ff_dim = head_size\n",
        "      self.dropout = dropout\n",
        "      self.attention_layers = [AttentionBlock(num_heads=num_heads, head_size=head_size, ff_dim=ff_dim, dropout=dropout) for _ in range(num_layers)]\n",
        "\n",
        "        \n",
        "    def call(self, inputs):\n",
        "        time_embedding = keras.layers.TimeDistributed(self.time2vec)(inputs)\n",
        "        #print(\"okqm4 \", inputs[0][0].numpy()* MAX_DATA)\n",
        "        #print(\"okqm5 \", time_embedding[0][0].numpy()* MAX_DATA) \n",
        "\n",
        "        x = K.concatenate([inputs, time_embedding], -1)\n",
        "        #print(\"okqm6 \", x[0][0].numpy()* MAX_DATA) \n",
        "\n",
        "        for attention_layer in self.attention_layers:\n",
        "            x = attention_layer(x)\n",
        "\n",
        "        #print(\"okqm7 \", x[0][0].numpy()* MAX_DATA) \n",
        "\n",
        "        return K.reshape(x, (-1, x.shape[1] * x.shape[2]))"
      ],
      "metadata": {
        "id": "jT0bV-8Nkz6j"
      },
      "execution_count": 168,
      "outputs": []
    },
    {
      "cell_type": "code",
      "source": [
        "def prepare_X_y(data):\n",
        "  X_data = []\n",
        "  y_data = []\n",
        "\n",
        "  for i in range(len(data)-NR_DAYS):\n",
        "    X = []\n",
        "    for j in range(NR_DAYS):\n",
        "      X.append(data[i+j] / MAX_DATA)\n",
        "    X_data.append(np.array(X))\n",
        "    y_data.append(data[i+NR_DAYS] / MAX_DATA)\n",
        "\n",
        "  X_data = np.array(X_data).reshape(len(X_data),NR_DAYS,1).astype(float)\n",
        "  y_data = np.array(y_data).reshape(len(y_data),1,1).astype(float)\n",
        "\n",
        "  return X_data, y_data"
      ],
      "metadata": {
        "id": "Mfv2vBaH176Z"
      },
      "execution_count": 169,
      "outputs": []
    },
    {
      "cell_type": "code",
      "source": [
        "def prepare_time_series_split(train_data, val_data):\n",
        "  #print(data)\n",
        "  train_data = np.array(train_data)\n",
        "  nr_days = 10\n",
        "  dataset = keras.preprocessing.timeseries_dataset_from_array(data=train_data, targets=None, sequence_length=train_data.size, sequence_stride=1, sampling_rate=nr_days)\n",
        "  print(dataset)\n",
        "  #for batch in dataset:\n",
        "  #  inputs, targets = batch\n",
        "  #  print(inputs)\n",
        "  #  print(targets)\n",
        "prepare_time_series_split(train_data, val_data)"
      ],
      "metadata": {
        "colab": {
          "base_uri": "https://localhost:8080/"
        },
        "id": "-nZGJdQ_ygSk",
        "outputId": "77f87de7-9e15-4244-913c-af12c71d440b"
      },
      "execution_count": 63,
      "outputs": [
        {
          "output_type": "stream",
          "name": "stdout",
          "text": [
            "<BatchDataset element_spec=TensorSpec(shape=(None, None), dtype=tf.int64, name=None)>\n"
          ]
        }
      ]
    },
    {
      "cell_type": "code",
      "source": [
        "def det_coeff(y_true, y_pred):\n",
        "  SS_res = K.sum(K.square(y_true - y_pred))\n",
        "  SS_tot = K.sum(K.square(y_true - K.mean(y_true)))\n",
        "  return (1. - SS_res/(SS_tot + K.epsilon()))\n",
        "\n",
        "def recall_m(y_true, y_pred):\n",
        "  true_positives = K.sum(K.round(K.clip(y_true * y_pred, 0, 1)))\n",
        "  possible_positives = K.sum(K.round(K.clip(y_true, 0, 1)))\n",
        "  recall = true_positives / (possible_positives + K.epsilon())\n",
        "  return recall\n",
        "\n",
        "def idx_of_agreement(y_true, y_pred):\n",
        "  up = K.sum(K.square(y_true - y_pred))\n",
        "  down = K.sum(K.square(K.abs(y_pred - K.mean(y_true)) + (K.abs(y_true - K.mean(y_true)))))\n",
        "  return (1. - up / (down + K.epsilon()))"
      ],
      "metadata": {
        "id": "70oWlaixJEKm"
      },
      "execution_count": 65,
      "outputs": []
    },
    {
      "cell_type": "code",
      "source": [
        "from keras.losses import MeanSquaredError, MeanAbsoluteError\n",
        "from keras.callbacks import EarlyStopping\n",
        "\n",
        "model = ModelTrunk()\n",
        "\n",
        "model.compile(optimizer='adam',\n",
        "              loss=[MeanSquaredError(), MeanAbsoluteError()],\n",
        "              run_eagerly=True)\n",
        "              #metrics=[idx_of_agreement])\n",
        "\n",
        "MAX_DATA = np.max(data)\n",
        "NR_DAYS = 10\n",
        "\n",
        "X_train, y_train = prepare_X_y(train_data)\n",
        "\n",
        "X_test, y_test = prepare_X_y(val_data)\n",
        "\n",
        "EarlyStop = EarlyStopping(monitor='loss',\n",
        "                          patience=5,\n",
        "                          #mode='max',\n",
        "                          verbose=1)\n",
        "\n",
        "callbacks = [EarlyStop]\n",
        "\n",
        "history = model.fit(X_train, y_train, \n",
        "                    epochs=100, verbose=1,\n",
        "                    validation_data = (X_test, y_test),\n",
        "                    callbacks = callbacks\n",
        "                   )"
      ],
      "metadata": {
        "colab": {
          "base_uri": "https://localhost:8080/"
        },
        "id": "kwzqQYhelCCb",
        "outputId": "dd2c14c6-1b8e-4a61-d630-ef5d5806f484"
      },
      "execution_count": 175,
      "outputs": [
        {
          "output_type": "stream",
          "name": "stdout",
          "text": [
            "Epoch 1/100\n",
            "22/22 [==============================] - 3s 154ms/step - loss: 0.0108 - val_loss: 0.0102\n",
            "Epoch 2/100\n",
            "22/22 [==============================] - 2s 89ms/step - loss: 0.0066 - val_loss: 0.0148\n",
            "Epoch 3/100\n",
            "22/22 [==============================] - 2s 80ms/step - loss: 0.0060 - val_loss: 0.0104\n",
            "Epoch 4/100\n",
            "22/22 [==============================] - 2s 79ms/step - loss: 0.0056 - val_loss: 0.0106\n",
            "Epoch 5/100\n",
            "22/22 [==============================] - 2s 81ms/step - loss: 0.0057 - val_loss: 0.0082\n",
            "Epoch 6/100\n",
            "22/22 [==============================] - 2s 80ms/step - loss: 0.0059 - val_loss: 0.0083\n",
            "Epoch 7/100\n",
            "22/22 [==============================] - 2s 80ms/step - loss: 0.0055 - val_loss: 0.0131\n",
            "Epoch 8/100\n",
            "22/22 [==============================] - 2s 79ms/step - loss: 0.0053 - val_loss: 0.0096\n",
            "Epoch 9/100\n",
            "22/22 [==============================] - 2s 81ms/step - loss: 0.0053 - val_loss: 0.0108\n",
            "Epoch 10/100\n",
            "22/22 [==============================] - 2s 78ms/step - loss: 0.0057 - val_loss: 0.0142\n",
            "Epoch 11/100\n",
            "22/22 [==============================] - 2s 80ms/step - loss: 0.0050 - val_loss: 0.0228\n",
            "Epoch 12/100\n",
            "22/22 [==============================] - 2s 78ms/step - loss: 0.0057 - val_loss: 0.0137\n",
            "Epoch 13/100\n",
            "22/22 [==============================] - 2s 80ms/step - loss: 0.0051 - val_loss: 0.0206\n",
            "Epoch 14/100\n",
            "22/22 [==============================] - 2s 81ms/step - loss: 0.0049 - val_loss: 0.0152\n",
            "Epoch 15/100\n",
            "22/22 [==============================] - 2s 81ms/step - loss: 0.0050 - val_loss: 0.0157\n",
            "Epoch 16/100\n",
            "22/22 [==============================] - 2s 79ms/step - loss: 0.0048 - val_loss: 0.0284\n",
            "Epoch 17/100\n",
            "22/22 [==============================] - 2s 78ms/step - loss: 0.0054 - val_loss: 0.0196\n",
            "Epoch 18/100\n",
            "22/22 [==============================] - 2s 81ms/step - loss: 0.0052 - val_loss: 0.0226\n",
            "Epoch 19/100\n",
            "22/22 [==============================] - 2s 78ms/step - loss: 0.0049 - val_loss: 0.0262\n",
            "Epoch 20/100\n",
            "22/22 [==============================] - 2s 79ms/step - loss: 0.0053 - val_loss: 0.0226\n",
            "Epoch 21/100\n",
            "22/22 [==============================] - 2s 82ms/step - loss: 0.0052 - val_loss: 0.0190\n",
            "Epoch 21: early stopping\n"
          ]
        }
      ]
    },
    {
      "cell_type": "code",
      "source": [
        "X_pred = np.array(X_train[-1]).reshape(1,NR_DAYS,1).astype(float)\n",
        "print(X_pred * MAX_DATA)\n",
        "y_pred = model.predict(X_pred) * MAX_DATA\n",
        "print(y_pred.shape)\n",
        "print(y_pred)\n",
        "print(np.max(y_pred[0][-3:]))"
      ],
      "metadata": {
        "colab": {
          "base_uri": "https://localhost:8080/"
        },
        "id": "-p5Hw9Ds8wJY",
        "outputId": "eb372e5d-892a-4a0b-9f84-d96fe355eb2e"
      },
      "execution_count": 176,
      "outputs": [
        {
          "output_type": "stream",
          "name": "stdout",
          "text": [
            "[[[36665.]\n",
            "  [40876.]\n",
            "  [34088.]\n",
            "  [29100.]\n",
            "  [36995.]\n",
            "  [53420.]\n",
            "  [57659.]\n",
            "  [57262.]\n",
            "  [51695.]\n",
            "  [48251.]]]\n",
            "(1, 10)\n",
            "[[39763.344 39268.54  39780.902 39966.168 39726.465 38598.35  38787.887\n",
            "  38765.35  38563.117 38583.742]]\n",
            "38765.35\n"
          ]
        }
      ]
    },
    {
      "cell_type": "code",
      "source": [
        "def prepare_preds(X):\n",
        "  y_preds = []\n",
        "  for x in X:\n",
        "    X_pred = np.array(x).reshape(1,NR_DAYS,1).astype(float)\n",
        "    y_pred = model.predict(X_pred) * MAX_DATA\n",
        "    y_preds.append(y_pred[0][-3]) #  (np.max(y_pred[0][-3:]))\n",
        "  return y_preds\n",
        "\n",
        "def draw_predictions(nr_epochs, y_test, y_preds, title):\n",
        "    epochs = np.arange(nr_epochs)\n",
        "    plt.figure(figsize=(12,4))\n",
        "\n",
        "    plt.plot(epochs, y_test, \"r\")\n",
        "    plt.plot(epochs, y_preds, \"g\")\n",
        "    \n",
        "    plt.ylabel(\"Ilość przypadków\")\n",
        "    plt.xlabel('Czas')\n",
        "    plt.legend(['true', 'pred'], loc='best')\n",
        "    plt.title(\"Przewidywania liczby przypadków dla danych \" + title)\n",
        "     \n",
        "    plt.show()"
      ],
      "metadata": {
        "id": "H-uGj0bYe6Ty"
      },
      "execution_count": 177,
      "outputs": []
    },
    {
      "cell_type": "code",
      "source": [
        "y_preds = prepare_preds(X_test)\n",
        "draw_predictions(len(y_preds), y_test.reshape(len(y_preds)) * MAX_DATA, y_preds, \"testujących\")"
      ],
      "metadata": {
        "colab": {
          "base_uri": "https://localhost:8080/",
          "height": 295
        },
        "id": "gGzLREoWfseS",
        "outputId": "e1ad9ec0-7704-40e0-8af0-2470fad3fc9a"
      },
      "execution_count": 178,
      "outputs": [
        {
          "output_type": "display_data",
          "data": {
            "text/plain": [
              "<Figure size 864x288 with 1 Axes>"
            ],
            "image/png": "[encoded data removed]"
          },
          "metadata": {
            "needs_background": "light"
          }
        }
      ]
    },
    {
      "cell_type": "code",
      "source": [
        "y_preds = prepare_preds(X_train)\n",
        "draw_predictions(len(y_preds), y_train.reshape(len(y_preds)) * MAX_DATA, y_preds, \"trenujących\")"
      ],
      "metadata": {
        "colab": {
          "base_uri": "https://localhost:8080/",
          "height": 295
        },
        "id": "1anc3T1ImQ9x",
        "outputId": "a1e7ecee-3cbc-4e60-d9c3-bcabdb1387f5"
      },
      "execution_count": 179,
      "outputs": [
        {
          "output_type": "display_data",
          "data": {
            "text/plain": [
              "<Figure size 864x288 with 1 Axes>"
            ],
            "image/png": "[encoded data removed]"
          },
          "metadata": {
            "needs_background": "light"
          }
        }
      ]
    },
    {
      "cell_type": "code",
      "source": [
        "y_preds = prepare_preds(X_test)\n",
        "y = y_test * MAX_DATA\n",
        "y = np.reshape(y, len(y))\n",
        "coeff = det_coeff(K.constant(y), K.constant(y_preds))\n",
        "index = idx_of_agreement(K.constant(y), K.constant(y_preds))\n",
        "print('Coefficient of determination: ' + str(K.get_value(coeff)))\n",
        "print('Index of agreement: ' + str(K.get_value(index)))"
      ],
      "metadata": {
        "colab": {
          "base_uri": "https://localhost:8080/"
        },
        "id": "HdQ7C3ek3dCw",
        "outputId": "5b6c6ec4-6285-4b47-eb1d-eb5cd274ea4d"
      },
      "execution_count": 148,
      "outputs": [
        {
          "output_type": "stream",
          "name": "stdout",
          "text": [
            "Coefficient of determination: -0.3797543\n",
            "Index of agreement: 0.7755817\n"
          ]
        }
      ]
    }
  ]
}